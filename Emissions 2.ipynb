{
 "cells": [
  {
   "cell_type": "code",
   "execution_count": 1,
   "metadata": {},
   "outputs": [],
   "source": [
    "import pandas as pd\n",
    "import numpy as np\n",
    "import seaborn as sns\n",
    "\n",
    "sns.set_style('whitegrid')"
   ]
  },
  {
   "cell_type": "code",
   "execution_count": null,
   "metadata": {},
   "outputs": [],
   "source": [
    "TOTAL_MOVEMENTS = 1700\n",
    "TOTAL_SIMS = 10000\n",
    "\n",
    "AVERAGE_TRACTOR_SPEED = 23 #kmph\n",
    "\n",
    "IDLE_MINS_AT_SOURCE = 2\n",
    "IDLE_MINS_AT_DIGESTER = 2\n",
    "\n",
    "IDLE_LOAD_MODE_VALUE = 0.75  #kg C02 per min\n",
    "lOW_LOAD_MODE_VALUE = 0.75  #kg C02 per min\n",
    "MEDIUM_LOAD_MODE_VALUE = 2.3 #kg CO2 per min\n",
    "HEAVY_LOAD_MODE_VALUE = 2.3 #kg CO2 per min\n",
    "\n",
    "TRACTOR_LOAD_PROFILE = 1 #0 = unloaded both ways, 1 = loaded one way, unloaded the other, 2 = loaded both ways"
   ]
  }
 ],
 "metadata": {
  "kernelspec": {
   "display_name": "Python 3",
   "language": "python",
   "name": "python3"
  },
  "language_info": {
   "codemirror_mode": {
    "name": "ipython",
    "version": 3
   },
   "file_extension": ".py",
   "mimetype": "text/x-python",
   "name": "python",
   "nbconvert_exporter": "python",
   "pygments_lexer": "ipython3",
   "version": "3.8.3"
  }
 },
 "nbformat": 4,
 "nbformat_minor": 4
}
