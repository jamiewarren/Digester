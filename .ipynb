{
 "cells": [
  {
   "cell_type": "raw",
   "metadata": {},
   "source": [
    "# import requests\n",
    "\n",
    "url = \"https://driver-vehicle-licensing.api.gov.uk/vehicle-enquiry/v1/vehicles\"\n",
    "\n",
    "payload = \"{\\n\\t\\\"registrationNumber\\\": \\\"la04zrg\\\"\\n}\"\n",
    "headers = {\n",
    "  'x-api-key': '0mBgqJwPFJ6uBMuVSOil14akNPZ3WFEP29tT7K3H',\n",
    "  'Content-Type': 'application/json'\n",
    "}\n",
    "\n",
    "response = requests.request(\"POST\", url, headers=headers, data = payload)\n",
    "\n",
    "print(response.text.encode('utf8'))"
   ]
  },
  {
   "cell_type": "code",
   "execution_count": null,
   "metadata": {},
   "outputs": [],
   "source": []
  }
 ],
 "metadata": {
  "kernelspec": {
   "display_name": "Python 3",
   "language": "python",
   "name": "python3"
  },
  "language_info": {
   "codemirror_mode": {
    "name": "ipython",
    "version": 3
   },
   "file_extension": ".py",
   "mimetype": "text/x-python",
   "name": "python",
   "nbconvert_exporter": "python",
   "pygments_lexer": "ipython3",
   "version": "3.8.3"
  }
 },
 "nbformat": 4,
 "nbformat_minor": 4
}
