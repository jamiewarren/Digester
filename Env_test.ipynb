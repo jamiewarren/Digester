{
  "nbformat": 4,
  "nbformat_minor": 0,
  "metadata": {
    "colab": {
      "name": "Env_test.ipynb",
      "provenance": [],
      "mount_file_id": "170EuNmGlz8Z9dx29I2zshCB5yI2gdZ-L",
      "authorship_tag": "ABX9TyPhoFEJLa/FupiIsEYSNMQ4",
      "include_colab_link": true
    },
    "kernelspec": {
      "name": "python3",
      "display_name": "Python 3"
    }
  },
  "cells": [
    {
      "cell_type": "markdown",
      "metadata": {
        "id": "view-in-github",
        "colab_type": "text"
      },
      "source": [
        "<a href=\"https://colab.research.google.com/github/jamiewarren/Digester/blob/main/Env_test.ipynb\" target=\"_parent\"><img src=\"https://colab.research.google.com/assets/colab-badge.svg\" alt=\"Open In Colab\"/></a>"
      ]
    },
    {
      "cell_type": "code",
      "metadata": {
        "id": "JH88MzVjM7Wc",
        "outputId": "f7ba5c67-7d05-433e-857c-d5adc733aa6b",
        "colab": {
          "base_uri": "https://localhost:8080/"
        }
      },
      "source": [
        "# What version of Python do you have?\n",
        "import sys\n",
        "\n",
        "import tensorflow.keras\n",
        "import pandas as pd\n",
        "import sklearn as sk\n",
        "import tensorflow as tf\n",
        "\n",
        "print(f\"Tensor Flow Version: {tf.__version__}\")\n",
        "print(f\"Keras Version: {tensorflow.keras.__version__}\")\n",
        "print()\n",
        "print(f\"Python {sys.version}\")\n",
        "print(f\"Pandas {pd.__version__}\")\n",
        "print(f\"Scikit-Learn {sk.__version__}\")\n",
        "print(\"GPU is\", \"available\" if tf.config.list_physical_devices('GPU') \\\n",
        "      else \"NOT AVAILABLE\")"
      ],
      "execution_count": 1,
      "outputs": [
        {
          "output_type": "stream",
          "text": [
            "Tensor Flow Version: 2.3.0\n",
            "Keras Version: 2.4.0\n",
            "\n",
            "Python 3.6.9 (default, Oct  8 2020, 12:12:24) \n",
            "[GCC 8.4.0]\n",
            "Pandas 1.1.4\n",
            "Scikit-Learn 0.22.2.post1\n",
            "GPU is available\n"
          ],
          "name": "stdout"
        }
      ]
    }
  ]
}