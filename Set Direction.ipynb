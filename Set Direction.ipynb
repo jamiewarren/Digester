{
 "cells": [
  {
   "cell_type": "code",
   "execution_count": 29,
   "metadata": {},
   "outputs": [],
   "source": [
    "MIKE_FROM = r'C:\\DS Project\\Images\\Sorted_Tractors\\Mike\\From'\n",
    "MIKE_TO = r'C:\\DS Project\\Images\\Sorted_Tractors\\Mike\\To'\n",
    "NEIL_FROM = r'C:\\DS Project\\Images\\Sorted_Tractors\\Neil\\From'\n",
    "NEIL_TO =  r'C:\\DS Project\\Images\\Sorted_Tractors\\Neil\\To'"
   ]
  },
  {
   "cell_type": "code",
   "execution_count": 30,
   "metadata": {},
   "outputs": [],
   "source": [
    "import psycopg2\n",
    "import db_config as creds\n",
    "import os"
   ]
  },
  {
   "cell_type": "code",
   "execution_count": 31,
   "metadata": {},
   "outputs": [],
   "source": [
    "def setDirection(folder, direction):\n",
    "    \n",
    "    try:\n",
    "        conn_string = \"host=\"+ creds.PGHOST +\" port=\"+ \"5432\" +\" dbname=\"+ creds.PGDATABASE +\" user=\" + creds.PGUSER \\\n",
    "                  +\" password=\"+ creds.PGPASSWORD\n",
    "         \n",
    "        connection = psycopg2.connect(conn_string)\n",
    "\n",
    "        cursor = connection.cursor()\n",
    "   \n",
    "        sql = \"\"\"UPDATE images SET true_direction = %s where filename = %s\"\"\"\n",
    "  \n",
    "        for filename in os.listdir(folder):\n",
    "            #print(filename)\n",
    "            cursor.execute(sql, (direction,filename))\n",
    "            connection.commit()\n",
    "  \n",
    "    except (Exception, psycopg2.Error) as error :\n",
    "        print (\"Error while updating PostgreSQL\", error)\n",
    "\n",
    "    finally:\n",
    "        #closing database connection.\n",
    "        if(connection):\n",
    "            cursor.close()\n",
    "            connection.close()\n",
    "            print(\"Finished - PostgreSQL connection is closed\")"
   ]
  },
  {
   "cell_type": "code",
   "execution_count": 32,
   "metadata": {},
   "outputs": [
    {
     "name": "stdout",
     "output_type": "stream",
     "text": [
      "Finished - PostgreSQL connection is closed\n",
      "Finished - PostgreSQL connection is closed\n",
      "Finished - PostgreSQL connection is closed\n",
      "Finished - PostgreSQL connection is closed\n",
      "Finished!\n"
     ]
    }
   ],
   "source": [
    "setDirection(MIKE_TO, 0)\n",
    "setDirection(MIKE_FROM, 1)\n",
    "setDirection(NEIL_TO, 0)\n",
    "setDirection(NEIL_FROM, 1)\n",
    "print(\"Finished!\")"
   ]
  }
 ],
 "metadata": {
  "kernelspec": {
   "display_name": "Python 3",
   "language": "python",
   "name": "python3"
  },
  "language_info": {
   "codemirror_mode": {
    "name": "ipython",
    "version": 3
   },
   "file_extension": ".py",
   "mimetype": "text/x-python",
   "name": "python",
   "nbconvert_exporter": "python",
   "pygments_lexer": "ipython3",
   "version": "3.8.3"
  }
 },
 "nbformat": 4,
 "nbformat_minor": 4
}
