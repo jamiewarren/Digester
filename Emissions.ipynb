{
 "cells": [
  {
   "cell_type": "code",
   "execution_count": 13,
   "metadata": {},
   "outputs": [],
   "source": [
    "import random\n",
    "import pandas as pd"
   ]
  },
  {
   "cell_type": "code",
   "execution_count": 14,
   "metadata": {},
   "outputs": [],
   "source": [
    "TOTAL_MOVEMENTS = 1390\n",
    "TOTAL_SIMS = 50000\n",
    "\n",
    "AVERAGE_TRACTOR_SPEED = 25.4 #kmph\n",
    "\n",
    "IDLE_MINS_AT_SOURCE_MIN = 5\n",
    "IDLE_MINS_AT_SOURCE_MAX = 10\n",
    "\n",
    "IDLE_MINS_AT_DIGESTER_MIN = 2\n",
    "IDLE_MINS_AT_DIGESTER_MAX = 5\n",
    "\n",
    "IDLE_LOAD_MODE_VALUE = 0.75  #kg C02 per min\n",
    "UNLOADED_LOAD_MODE_VALUE_MIN = 0.75  #kg C02 per min\n",
    "UNLOADED_LOAD_MODE_VALUE_MAX = 1.5  #kg C02 per min\n",
    "LOADED_LOAD_MODE_VALUE_MIN = 1.5 #kg CO2 per min\n",
    "LOADED_LOAD_MODE_VALUE_MAX = 2.3 #kg CO2 per min"
   ]
  },
  {
   "cell_type": "code",
   "execution_count": 15,
   "metadata": {},
   "outputs": [],
   "source": [
    "SOURCE_DISTANCE = [3,5,8,10] #kms from digester\n",
    "\n",
    "def get_rnd_distance():\n",
    "    \n",
    "    return random.choice(SOURCE_DISTANCE)        "
   ]
  },
  {
   "cell_type": "code",
   "execution_count": 16,
   "metadata": {},
   "outputs": [],
   "source": [
    "def get_rnd_value_from_range(lower, upper):\n",
    "    \n",
    "    return random.uniform(lower, upper)"
   ]
  },
  {
   "cell_type": "code",
   "execution_count": 17,
   "metadata": {},
   "outputs": [],
   "source": [
    "def main():\n",
    "    \n",
    "    df = pd.DataFrame(columns=['CO2', 'Distance'])\n",
    "    for sim in range(TOTAL_SIMS):\n",
    "\n",
    "        total_co2 = 0\n",
    "        total_dist = 0\n",
    "        for movement in range(TOTAL_MOVEMENTS):\n",
    "            \n",
    "            # get distance of supply farm 3,5,8,10 kms\n",
    "            movement_distance = get_rnd_distance()\n",
    "            \n",
    "            # work out travel time based on ave. 25 kmph\n",
    "            trip_time_one_way = movement_distance / (AVERAGE_TRACTOR_SPEED/60)\n",
    "            \n",
    "            #get a random value for the emissions under load\n",
    "            loaded_emission_val = get_rnd_value_from_range(LOADED_LOAD_MODE_VALUE_MIN,LOADED_LOAD_MODE_VALUE_MAX)\n",
    "            unloaded_emission_val = get_rnd_value_from_range(UNLOADED_LOAD_MODE_VALUE_MIN,UNLOADED_LOAD_MODE_VALUE_MAX)\n",
    "                        \n",
    "            idle_time_at_source = get_rnd_value_from_range(IDLE_MINS_AT_SOURCE_MIN,IDLE_MINS_AT_SOURCE_MAX)\n",
    "            \n",
    "            idle_time_at_digester = get_rnd_value_from_range(IDLE_MINS_AT_DIGESTER_MIN,IDLE_MINS_AT_DIGESTER_MAX)\n",
    "            \n",
    "            # calculate the total emmsions for this combined trip to and from the digester\n",
    "            # assuming one way loading\n",
    "            movement_co2 = ( (idle_time_at_source * IDLE_LOAD_MODE_VALUE) + \n",
    "                            (trip_time_one_way * loaded_emission_val) +\n",
    "                            (idle_time_at_digester * IDLE_LOAD_MODE_VALUE) +\n",
    "                            (trip_time_one_way * unloaded_emission_val) )\n",
    "            \n",
    "            total_co2 += movement_co2\n",
    "            total_dist += movement_distance * 2 # trip there and back\n",
    "             \n",
    "        df.loc[0 if pd.isnull(df.index.max()) else df.index.max() + 1] = [total_co2,total_dist]\n",
    "\n",
    "    print(df.describe())\n",
    "    df.describe().to_csv(\"emmisions.csv\")\n",
    "    \n",
    "    # CO2 emissions Histogram\n",
    "    ax =df.hist(column='CO2', bins=20,color='#86bf91', zorder=2)\n",
    "    ax = ax[0]\n",
    "    for x in ax:\n",
    "\n",
    "        # Draw horizontal axis lines\n",
    "        vals = x.get_yticks()\n",
    "        for tick in vals:\n",
    "            x.axhline(y=tick, linestyle='dashed', alpha=0.4, color='#eeeeee', zorder=1)\n",
    "\n",
    "        # Remove title\n",
    "        x.set_title(\"\")\n",
    "\n",
    "        # Set x-axis label\n",
    "        x.set_xlabel(\"CO2 Emissions Kg\", labelpad=10, weight='bold', size=12)\n",
    "\n",
    "        # Set y-axis label\n",
    "        x.set_ylabel(\"Frequency\", labelpad=10, weight='bold', size=12)\n",
    "    \n",
    "\n",
    "    # Distance Histogram\n",
    "    ax = df.hist(column='Distance',bins=20)\n",
    "    ax = ax[0]\n",
    "    for x in ax:\n",
    "\n",
    "        # Draw horizontal axis lines\n",
    "        vals = x.get_yticks()\n",
    "        for tick in vals:\n",
    "            x.axhline(y=tick, linestyle='dashed', alpha=0.4, color='#eeeeee', zorder=1)\n",
    "\n",
    "        # Remove title\n",
    "        x.set_title(\"\")\n",
    "\n",
    "        # Set x-axis label\n",
    "        x.set_xlabel(\"Distance Km\", labelpad=10, weight='bold', size=12)\n",
    "\n",
    "        # Set y-axis label\n",
    "        x.set_ylabel(\"Frequency\", labelpad=10, weight='bold', size=12)\n"
   ]
  },
  {
   "cell_type": "code",
   "execution_count": 18,
   "metadata": {
    "scrolled": true
   },
   "outputs": [
    {
     "name": "stdout",
     "output_type": "stream",
     "text": [
      "                CO2      Distance\n",
      "count  50000.000000  50000.000000\n",
      "mean   76030.364624  18070.460160\n",
      "std      748.920799    202.122316\n",
      "min    73041.244146  17218.000000\n",
      "25%    75524.665829  17934.000000\n",
      "50%    76030.460861  18070.000000\n",
      "75%    76534.703520  18208.000000\n",
      "max    79323.602648  18984.000000\n"
     ]
    },
    {
     "data": {
      "image/png": "[encoded data removed]",
      "text/plain": [
       "<Figure size 432x288 with 1 Axes>"
      ]
     },
     "metadata": {
      "needs_background": "light"
     },
     "output_type": "display_data"
    },
    {
     "data": {
      "image/png": "[encoded data removed]",
      "text/plain": [
       "<Figure size 432x288 with 1 Axes>"
      ]
     },
     "metadata": {
      "needs_background": "light"
     },
     "output_type": "display_data"
    }
   ],
   "source": [
    "main()"
   ]
  },
  {
   "cell_type": "code",
   "execution_count": null,
   "metadata": {},
   "outputs": [],
   "source": []
  }
 ],
 "metadata": {
  "kernelspec": {
   "display_name": "Python 3",
   "language": "python",
   "name": "python3"
  },
  "language_info": {
   "codemirror_mode": {
    "name": "ipython",
    "version": 3
   },
   "file_extension": ".py",
   "mimetype": "text/x-python",
   "name": "python",
   "nbconvert_exporter": "python",
   "pygments_lexer": "ipython3",
   "version": "3.8.3"
  }
 },
 "nbformat": 4,
 "nbformat_minor": 4
}
