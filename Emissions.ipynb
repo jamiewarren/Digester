{
 "cells": [
  {
   "cell_type": "code",
   "execution_count": 100,
   "metadata": {},
   "outputs": [],
   "source": [
    "import random\n",
    "import matplotlib.pyplot as plt"
   ]
  },
  {
   "cell_type": "code",
   "execution_count": 101,
   "metadata": {},
   "outputs": [],
   "source": [
    "TOTAL_MOVEMENTS = 1700\n",
    "TOTAL_SIMS = 10000\n",
    "\n",
    "AVERAGE_TRACTOR_SPEED = 23 #kmph\n",
    "\n",
    "IDLE_MINS_AT_SOURCE = 2\n",
    "IDLE_MINS_AT_DIGESTER = 2\n",
    "\n",
    "IDLE_LOAD_MODE_VALUE = 0.75  #kg C02 per min\n",
    "lOW_LOAD_MODE_VALUE = 0.75  #kg C02 per min\n",
    "MEDIUM_LOAD_MODE_VALUE = 2.3 #kg CO2 per min\n",
    "HEAVY_LOAD_MODE_VALUE = 2.3 #kg CO2 per min\n",
    "\n",
    "TRACTOR_LOAD_PROFILE = 1 #0 = unloaded both ways, 1 = loaded one way, unloaded the other, 2 = loaded both ways\n"
   ]
  },
  {
   "cell_type": "code",
   "execution_count": 102,
   "metadata": {},
   "outputs": [],
   "source": [
    "SOURCE_DISTANCE = [3,5,8,10] #kms from digester\n",
    "\n",
    "def get_rnd_distance():\n",
    "    \n",
    "    return random.choice(SOURCE_DISTANCE)\n",
    "        "
   ]
  },
  {
   "cell_type": "code",
   "execution_count": 103,
   "metadata": {},
   "outputs": [],
   "source": [
    "def get_rnd_value_from_range(lower, upper):\n",
    "    \n",
    "    return random.uniform(lower, upper)"
   ]
  },
  {
   "cell_type": "code",
   "execution_count": 104,
   "metadata": {},
   "outputs": [],
   "source": [
    "def main():\n",
    "    \n",
    "    data = []\n",
    "    x = range(TOTAL_SIMS)\n",
    "    for sim in x:\n",
    "    \n",
    "        y = range(TOTAL_MOVEMENTS)\n",
    "        total_co2 = 0\n",
    "        for movement in y:\n",
    "            \n",
    "            distance = get_rnd_distance()\n",
    "            \n",
    "            trip_time_one_way = distance / (AVERAGE_TRACTOR_SPEED/60)\n",
    "            \n",
    "            loaded_em = get_rnd_value_from_range(lOW_LOAD_MODE_VALUE,MEDIUM_LOAD_MODE_VALUE)\n",
    "            \n",
    "            movement_co2 = ( (IDLE_MINS_AT_SOURCE * IDLE_LOAD_MODE_VALUE) + \n",
    "                            (trip_time_one_way * get_rnd_value_from_range(lOW_LOAD_MODE_VALUE,MEDIUM_LOAD_MODE_VALUE)) +\n",
    "                            (IDLE_MINS_AT_DIGESTER * IDLE_LOAD_MODE_VALUE) +\n",
    "                            (trip_time_one_way * lOW_LOAD_MODE_VALUE) )\n",
    "            \n",
    "            total_co2 += movement_co2\n",
    "            #print (loaded_em)\n",
    "        \n",
    "        data.append(total_co2)                        \n",
    "            \n",
    "    #print (data) \n",
    "    plt.hist(data) #plotting the column as histogram \n",
    "    \n",
    "    "
   ]
  },
  {
   "cell_type": "code",
   "execution_count": 105,
   "metadata": {},
   "outputs": [
    {
     "data": {
      "image/png": "[encoded data removed]",
      "text/plain": [
       "<Figure size 432x288 with 1 Axes>"
      ]
     },
     "metadata": {
      "needs_background": "light"
     },
     "output_type": "display_data"
    }
   ],
   "source": [
    "main()"
   ]
  },
  {
   "cell_type": "code",
   "execution_count": null,
   "metadata": {},
   "outputs": [],
   "source": []
  }
 ],
 "metadata": {
  "kernelspec": {
   "display_name": "Python 3",
   "language": "python",
   "name": "python3"
  },
  "language_info": {
   "codemirror_mode": {
    "name": "ipython",
    "version": 3
   },
   "file_extension": ".py",
   "mimetype": "text/x-python",
   "name": "python",
   "nbconvert_exporter": "python",
   "pygments_lexer": "ipython3",
   "version": "3.8.3"
  }
 },
 "nbformat": 4,
 "nbformat_minor": 4
}
