{
 "cells": [
  {
   "cell_type": "markdown",
   "metadata": {},
   "source": [
    "# Data Cleansing\n"
   ]
  },
  {
   "cell_type": "code",
   "execution_count": 437,
   "metadata": {},
   "outputs": [],
   "source": [
    "MIKE_ORIGINALS = r'C:\\DS Project\\Images\\Mike\\Original'\n",
    "#MIKE_ORIGINALS = r'C:\\DS Project\\Images\\Mike\\test'\n",
    "NEIL_ORIGINALS = r'C:\\DS Project\\Images\\Neil\\Original'\n",
    "MANUALLY_IDENTIFIED_TRACTORS =  r'C:\\DS Project\\Images\\Tractors'\n",
    "\n",
    "SET_SECONDS = 2"
   ]
  },
  {
   "cell_type": "markdown",
   "metadata": {},
   "source": [
    "## Imports"
   ]
  },
  {
   "cell_type": "code",
   "execution_count": 438,
   "metadata": {},
   "outputs": [],
   "source": [
    "import psycopg2\n",
    "import db_config as creds\n",
    "import os\n",
    "import time\n",
    "import datetime\n",
    "from stat import * "
   ]
  },
  {
   "cell_type": "code",
   "execution_count": 439,
   "metadata": {},
   "outputs": [],
   "source": [
    "class theImg:\n",
    "  def __init__(self, filename, createdDate,cameraName,cameraId,folderLocation):\n",
    "    self.createdDate = createdDate\n",
    "    self.filename = filename\n",
    "    self.cameraName = cameraName\n",
    "    self.cameraId = cameraId\n",
    "    self.folderLocation = folderLocation\n",
    "        \n",
    "    # see if the image has previously been identifed as a tractor\n",
    "    self.MWIdentified = False\n",
    "    for subdir, dirs, files in os.walk(MANUALLY_IDENTIFIED_TRACTORS):\n",
    "        for tractorFilename in files:\n",
    "            if tractorFilename == filename:\n",
    "                self.MWIdentified = True\n",
    "    "
   ]
  },
  {
   "cell_type": "code",
   "execution_count": 440,
   "metadata": {},
   "outputs": [],
   "source": [
    "def processImages(imgLocation, cameraName, cameraId):\n",
    "    imgSet = 1\n",
    "    imagesInSet = []\n",
    "\n",
    "    # loop round each image in the original folder\n",
    "    for subdir, dirs, files in os.walk(imgLocation):\n",
    "        \n",
    "        for filename in files:\n",
    "        \n",
    "            filepath = subdir + os.sep + filename\n",
    "            stat = os.stat(filepath)\n",
    "        \n",
    "            # create new image object with attributes\n",
    "            createdDate = datetime.datetime.fromtimestamp(stat[ST_MTIME])\n",
    "               \n",
    "            newImg = theImg(filename,createdDate,cameraName,cameraId,subdir + os.sep)\n",
    "        \n",
    "            # check if image is > SET_SECONDS seconds offset the last image\n",
    "            if (len(imagesInSet) > 0) and ( (createdDate-imagesInSet[len(imagesInSet)-1].createdDate).total_seconds() > SET_SECONDS ):\n",
    "            \n",
    "                # insert each of the images in the list into the database\n",
    "                addSetToDB(imagesInSet)\n",
    "                \n",
    "                # increment the set counter\n",
    "                imgSet+=1\n",
    "            \n",
    "                # clear out the list\n",
    "                imagesInSet.clear()\n",
    "        \n",
    "            #set the image set \n",
    "            newImg.imgSet = imgSet    \n",
    "            \n",
    "            # add the image to the list\n",
    "            imagesInSet.append(newImg)\n",
    "        \n",
    "    # add the last set to the data base     \n",
    "    addSetToDB(imagesInSet) "
   ]
  },
  {
   "cell_type": "markdown",
   "metadata": {},
   "source": [
    "## Database functions"
   ]
  },
  {
   "cell_type": "code",
   "execution_count": 441,
   "metadata": {},
   "outputs": [],
   "source": [
    "def connect():\n",
    "    \n",
    "    # Set up a connection to the postgres server.\n",
    "    conn_string = \"host=\"+ creds.PGHOST +\" port=\"+ \"5432\" +\" dbname=\"+ creds.PGDATABASE +\" user=\" + creds.PGUSER \\\n",
    "                  +\" password=\"+ creds.PGPASSWORD\n",
    "         \n",
    "    conn = psycopg2.connect(conn_string)\n",
    "\n",
    "    # Create a cursor object\n",
    "    cursor = conn.cursor()\n",
    "  \n",
    "    print (\"connected!\")\n",
    "    return conn, cursor\n",
    "\n",
    "def disconnect(conn,cursor):\n",
    "    \n",
    "    cursor.close()\n",
    "    conn.close()\n",
    "    print (\"disconnected!\")\n",
    "    \n",
    "def addSetToDB(imgSet):\n",
    "    \n",
    "    sql = \"\"\"INSERT INTO images (\"fileName\", \"cameraId\", \"cameraName\", \"dateTaken\", \"setId\", \"MW_ManuallyIdentifiedTractor\", \"folderLocation\") VALUES (%s, %s, %s, %s, %s, %s, %s)\"\"\"\n",
    "        \n",
    "    # Connecting to DB\n",
    "    conn, cursor = connect()\n",
    "    \n",
    "    for img in imgSet:\n",
    "\n",
    "        #insert into db\n",
    "        cursor.execute(sql, (img.filename,img.cameraId,img.cameraName, img.createdDate, img.imgSet, img.MWIdentified, img.folderLocation,))\n",
    "        conn.commit()\n",
    "        \n",
    "        print (\"Inserted..\",img.filename,img.cameraId,img.cameraName, img.createdDate, img.imgSet, img.MWIdentified, img.folderLocation)\n",
    "        \n",
    "    # Disconnect from DB\n",
    "    disconnect(conn, cursor)"
   ]
  },
  {
   "cell_type": "markdown",
   "metadata": {},
   "source": [
    "# Process Original Images from Mike and Neil"
   ]
  },
  {
   "cell_type": "code",
   "execution_count": 442,
   "metadata": {
    "scrolled": false
   },
   "outputs": [
    {
     "name": "stdout",
     "output_type": "stream",
     "text": [
      "connected!\n",
      "Inserted.. 01Mk0005.JPG 1 Mike 2020-03-11 07:10:52 1 False C:\\DS Project\\Images\\Mike\\test\\\n",
      "Inserted.. 01Mk0006.JPG 1 Mike 2020-03-11 07:10:54 1 False C:\\DS Project\\Images\\Mike\\test\\\n",
      "Inserted.. 01Mk0007.JPG 1 Mike 2020-03-11 07:10:56 1 False C:\\DS Project\\Images\\Mike\\test\\\n",
      "Inserted.. 01Mk0008.JPG 1 Mike 2020-03-11 07:10:58 1 False C:\\DS Project\\Images\\Mike\\test\\\n",
      "disconnected!\n",
      "connected!\n",
      "Inserted.. 01Mk0009.JPG 1 Mike 2020-03-11 07:11:02 2 False C:\\DS Project\\Images\\Mike\\test\\\n",
      "Inserted.. 01Mk0010.JPG 1 Mike 2020-03-11 07:11:02 2 False C:\\DS Project\\Images\\Mike\\test\\\n",
      "Inserted.. 01Mk0011.JPG 1 Mike 2020-03-11 07:11:02 2 False C:\\DS Project\\Images\\Mike\\test\\\n",
      "Inserted.. 01Mk0012.JPG 1 Mike 2020-03-11 07:11:02 2 False C:\\DS Project\\Images\\Mike\\test\\\n",
      "Inserted.. 01Mk0013.JPG 1 Mike 2020-03-11 07:11:04 2 False C:\\DS Project\\Images\\Mike\\test\\\n",
      "Inserted.. 01Mk0014.JPG 1 Mike 2020-03-11 07:11:04 2 False C:\\DS Project\\Images\\Mike\\test\\\n",
      "Inserted.. 01Mk0015.JPG 1 Mike 2020-03-11 07:11:04 2 False C:\\DS Project\\Images\\Mike\\test\\\n",
      "Inserted.. 01Mk0016.JPG 1 Mike 2020-03-11 07:11:06 2 False C:\\DS Project\\Images\\Mike\\test\\\n",
      "Inserted.. 01Mk0017.JPG 1 Mike 2020-03-11 07:11:06 2 False C:\\DS Project\\Images\\Mike\\test\\\n",
      "Inserted.. 01Mk0018.JPG 1 Mike 2020-03-11 07:11:06 2 False C:\\DS Project\\Images\\Mike\\test\\\n",
      "Inserted.. 01Mk0019.JPG 1 Mike 2020-03-11 07:11:06 2 False C:\\DS Project\\Images\\Mike\\test\\\n",
      "Inserted.. 01Mk0020.JPG 1 Mike 2020-03-11 07:11:08 2 False C:\\DS Project\\Images\\Mike\\test\\\n",
      "Inserted.. 01Mk0021.JPG 1 Mike 2020-03-11 07:11:08 2 False C:\\DS Project\\Images\\Mike\\test\\\n",
      "Inserted.. 01Mk0022.JPG 1 Mike 2020-03-11 07:11:08 2 False C:\\DS Project\\Images\\Mike\\test\\\n",
      "Inserted.. 01Mk0023.JPG 1 Mike 2020-03-11 07:11:08 2 False C:\\DS Project\\Images\\Mike\\test\\\n",
      "Inserted.. 01Mk0024.JPG 1 Mike 2020-03-11 07:11:08 2 False C:\\DS Project\\Images\\Mike\\test\\\n",
      "Inserted.. 01Mk0025.JPG 1 Mike 2020-03-11 07:11:10 2 False C:\\DS Project\\Images\\Mike\\test\\\n",
      "Inserted.. 01Mk0026.JPG 1 Mike 2020-03-11 07:11:12 2 False C:\\DS Project\\Images\\Mike\\test\\\n",
      "Inserted.. 01Mk0027.JPG 1 Mike 2020-03-11 07:11:12 2 False C:\\DS Project\\Images\\Mike\\test\\\n",
      "Inserted.. 01Mk0028.JPG 1 Mike 2020-03-11 07:11:12 2 False C:\\DS Project\\Images\\Mike\\test\\\n",
      "Inserted.. 01Mk0029.JPG 1 Mike 2020-03-11 07:11:14 2 False C:\\DS Project\\Images\\Mike\\test\\\n",
      "Inserted.. 01Mk0030.JPG 1 Mike 2020-03-11 07:11:14 2 False C:\\DS Project\\Images\\Mike\\test\\\n",
      "Inserted.. 01Mk0031.JPG 1 Mike 2020-03-11 07:11:16 2 False C:\\DS Project\\Images\\Mike\\test\\\n",
      "Inserted.. 01Mk0032.JPG 1 Mike 2020-03-11 07:11:16 2 False C:\\DS Project\\Images\\Mike\\test\\\n",
      "Inserted.. 01Mk0033.JPG 1 Mike 2020-03-11 07:11:16 2 False C:\\DS Project\\Images\\Mike\\test\\\n",
      "disconnected!\n",
      "connected!\n",
      "Inserted.. 01Mk0034.JPG 1 Mike 2020-03-11 07:11:20 3 False C:\\DS Project\\Images\\Mike\\test\\\n",
      "Inserted.. 01Mk0035.JPG 1 Mike 2020-03-11 07:11:20 3 False C:\\DS Project\\Images\\Mike\\test\\\n",
      "Inserted.. 01Mk0036.JPG 1 Mike 2020-03-11 07:11:22 3 False C:\\DS Project\\Images\\Mike\\test\\\n",
      "Inserted.. 01Mk0037.JPG 1 Mike 2020-03-11 07:11:22 3 False C:\\DS Project\\Images\\Mike\\test\\\n",
      "Inserted.. 01Mk0038.JPG 1 Mike 2020-03-11 07:11:24 3 False C:\\DS Project\\Images\\Mike\\test\\\n",
      "Inserted.. 01Mk0039.JPG 1 Mike 2020-03-11 07:11:24 3 False C:\\DS Project\\Images\\Mike\\test\\\n",
      "Inserted.. 01Mk0040.JPG 1 Mike 2020-03-11 07:11:26 3 False C:\\DS Project\\Images\\Mike\\test\\\n",
      "Inserted.. 01Mk0041.JPG 1 Mike 2020-03-11 07:11:26 3 False C:\\DS Project\\Images\\Mike\\test\\\n",
      "Inserted.. 01Mk0042.JPG 1 Mike 2020-03-11 07:11:26 3 False C:\\DS Project\\Images\\Mike\\test\\\n",
      "Inserted.. 01Mk0043.JPG 1 Mike 2020-03-11 07:11:26 3 False C:\\DS Project\\Images\\Mike\\test\\\n",
      "Inserted.. 01Mk0044.JPG 1 Mike 2020-03-11 07:11:28 3 False C:\\DS Project\\Images\\Mike\\test\\\n",
      "Inserted.. 01Mk0045.JPG 1 Mike 2020-03-11 07:11:30 3 False C:\\DS Project\\Images\\Mike\\test\\\n",
      "Inserted.. 01Mk0046.JPG 1 Mike 2020-03-11 07:11:30 3 False C:\\DS Project\\Images\\Mike\\test\\\n",
      "Inserted.. 01Mk0047.JPG 1 Mike 2020-03-11 07:11:30 3 False C:\\DS Project\\Images\\Mike\\test\\\n",
      "Inserted.. 01Mk0048.JPG 1 Mike 2020-03-11 07:11:32 3 False C:\\DS Project\\Images\\Mike\\test\\\n",
      "Inserted.. 01Mk0049.JPG 1 Mike 2020-03-11 07:11:34 3 False C:\\DS Project\\Images\\Mike\\test\\\n",
      "Inserted.. 01Mk0050.JPG 1 Mike 2020-03-11 07:11:36 3 False C:\\DS Project\\Images\\Mike\\test\\\n",
      "Inserted.. 01Mk0051.JPG 1 Mike 2020-03-11 07:11:38 3 False C:\\DS Project\\Images\\Mike\\test\\\n",
      "Inserted.. 01Mk0052.JPG 1 Mike 2020-03-11 07:11:38 3 False C:\\DS Project\\Images\\Mike\\test\\\n",
      "Inserted.. 01Mk0053.JPG 1 Mike 2020-03-11 07:11:40 3 False C:\\DS Project\\Images\\Mike\\test\\\n",
      "Inserted.. 01Mk0054.JPG 1 Mike 2020-03-11 07:11:40 3 False C:\\DS Project\\Images\\Mike\\test\\\n",
      "disconnected!\n",
      "connected!\n",
      "Inserted.. 01Mk0055.JPG 1 Mike 2020-03-11 07:11:44 4 False C:\\DS Project\\Images\\Mike\\test\\\n",
      "Inserted.. 01Mk0056.JPG 1 Mike 2020-03-11 07:11:44 4 False C:\\DS Project\\Images\\Mike\\test\\\n",
      "Inserted.. 01Mk0057.JPG 1 Mike 2020-03-11 07:11:44 4 False C:\\DS Project\\Images\\Mike\\test\\\n",
      "Inserted.. 01Mk0058.JPG 1 Mike 2020-03-11 07:11:44 4 False C:\\DS Project\\Images\\Mike\\test\\\n",
      "Inserted.. 01Mk0059.JPG 1 Mike 2020-03-11 07:11:46 4 False C:\\DS Project\\Images\\Mike\\test\\\n",
      "Inserted.. 01Mk0060.JPG 1 Mike 2020-03-11 07:11:48 4 False C:\\DS Project\\Images\\Mike\\test\\\n",
      "Inserted.. 01Mk0061.JPG 1 Mike 2020-03-11 07:11:48 4 False C:\\DS Project\\Images\\Mike\\test\\\n",
      "disconnected!\n",
      "connected!\n",
      "Inserted.. 01Mk0062.JPG 1 Mike 2020-03-11 07:11:52 5 False C:\\DS Project\\Images\\Mike\\test\\\n",
      "Inserted.. 01Mk0063.JPG 1 Mike 2020-03-11 07:11:54 5 False C:\\DS Project\\Images\\Mike\\test\\\n",
      "Inserted.. 01Mk0064.JPG 1 Mike 2020-03-11 07:11:54 5 False C:\\DS Project\\Images\\Mike\\test\\\n",
      "disconnected!\n"
     ]
    }
   ],
   "source": [
    "processImages(MIKE_ORIGINALS, \"Mike\", 1) \n",
    "#processImages(NEIL_ORIGINALS, \"Neil\", 2) "
   ]
  }
 ],
 "metadata": {
  "kernelspec": {
   "display_name": "Python 3",
   "language": "python",
   "name": "python3"
  },
  "language_info": {
   "codemirror_mode": {
    "name": "ipython",
    "version": 3
   },
   "file_extension": ".py",
   "mimetype": "text/x-python",
   "name": "python",
   "nbconvert_exporter": "python",
   "pygments_lexer": "ipython3",
   "version": "3.8.3"
  }
 },
 "nbformat": 4,
 "nbformat_minor": 4
}
