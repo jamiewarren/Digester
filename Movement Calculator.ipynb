{
 "cells": [
  {
   "cell_type": "markdown",
   "metadata": {},
   "source": [
    "## Calculate Tractor movements\n",
    "\n",
    "Based on avialble information about each image, we attemp to link images together into a singel journey\n",
    "\n",
    "We have\n",
    "    direction\n",
    "    Time\n",
    "    expected time between cameras\n",
    "    expected time at digestor  \n",
    "    tractor features - model, colour, reg\n",
    "    \n",
    "so we can consider thi\n",
    "    on a day by day basis\n",
    "    on a trip basis i.e. from and to the digester\n",
    "\n",
    "for each day\n",
    "    find hte first Mark image TO and link it to a TO NEIL image based on expected timespan\n",
    "    Find a Neil image FROM and link it to a Mark Image FROM based on expected timespan\n",
    "    dont need to join these two together!    \n",
    "    Any Neil images TO without a corressponding Mark Image TO > has arrive by another route\n",
    "    Any Neil Images FROM without a corresponding MARK image FROM > has left by another route \n",
    "    Any Mark images FROM without a coresponnding NEIL image FROM > possible misaclassified\n",
    "    ANY MARK images TO without correspondin Neil TO > possible other traffic and miscalssified\n",
    "    mop up any no linked \n",
    "    \n",
    "\n"
   ]
  },
  {
   "cell_type": "markdown",
   "metadata": {},
   "source": []
  }
 ],
 "metadata": {
  "kernelspec": {
   "display_name": "Python 3",
   "language": "python",
   "name": "python3"
  },
  "language_info": {
   "codemirror_mode": {
    "name": "ipython",
    "version": 3
   },
   "file_extension": ".py",
   "mimetype": "text/x-python",
   "name": "python",
   "nbconvert_exporter": "python",
   "pygments_lexer": "ipython3",
   "version": "3.8.3"
  }
 },
 "nbformat": 4,
 "nbformat_minor": 4
}
